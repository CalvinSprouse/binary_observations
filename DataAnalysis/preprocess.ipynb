{
 "cells": [
  {
   "cell_type": "code",
   "execution_count": 1,
   "metadata": {},
   "outputs": [],
   "source": [
    "# imports\n",
    "import os\n",
    "import random\n",
    "import warnings\n",
    "from pathlib import Path\n",
    "\n",
    "import ccdproc\n",
    "from astropy import units\n",
    "from astropy.nddata import CCDData\n",
    "from astropy.utils.exceptions import AstropyWarning\n",
    "from rich import print, pretty\n",
    "from tqdm import trange, tqdm"
   ]
  },
  {
   "cell_type": "code",
   "execution_count": 2,
   "metadata": {},
   "outputs": [],
   "source": [
    "# configurations\n",
    "# supporess fits warnings\n",
    "warnings.filterwarnings(\"ignore\", category=AstropyWarning, append=True)\n",
    "\n",
    "# configure rich\n",
    "pretty.install()\n",
    "\n",
    "# configure tqdm\n",
    "bar_format = {\"unit_scale\": True,\n",
    "              \"unit\": \"Files\",\n",
    "              \"colour\": \"green\",\n",
    "              \"ascii\": True,\n",
    "              \"ncols\": 90}\n",
    "\n",
    "# directory definitions\n",
    "initial_data_dir = Path(\"AstronomyResearchData/20230525/\")\n",
    "fixed_data_dir = Path(\"AstronomyResearchData/PreProcessData_20230525\")\n",
    "\n",
    "# make the final dir if it doesnt exist\n",
    "os.makedirs(fixed_data_dir, exist_ok=True)"
   ]
  },
  {
   "cell_type": "code",
   "execution_count": 3,
   "metadata": {},
   "outputs": [
    {
     "name": "stderr",
     "output_type": "stream",
     "text": [
      "Loading Fits Files: 100%|\u001b[32m#############################\u001b[0m| 326/326 [00:19<00:00, 16.9Files/s]\u001b[0m\n"
     ]
    }
   ],
   "source": [
    "# collect all files from the initial data dir and read them in\n",
    "# save them to a list of dictionaries with the raw file and\n",
    "# just the fits headers seperated\n",
    "\n",
    "# fits_files = []\n",
    "# for file in tqdm(ccdproc.ImageFileCollection(initial_data_dir).files_filtered(include_path=True), desc=\"Loading Fits Files\", **bar_format):\n",
    "#     fits_file = CCDData.read(file)\n",
    "#     fits_files.append({\n",
    "#         \"file\": file,\n",
    "#         \"fits\": fits_file\n",
    "#     })\n",
    "\n",
    "fits_files = [{\"file\": file, \"fits\": CCDData.read(file)} for file in tqdm(ccdproc.ImageFileCollection(initial_data_dir).files_filtered(include_path=True), desc=\"Loading Fits Files\", **bar_format)]"
   ]
  },
  {
   "cell_type": "code",
   "execution_count": 4,
   "metadata": {},
   "outputs": [
    {
     "name": "stderr",
     "output_type": "stream",
     "text": [
      "Sorting: 100%|\u001b[32m#######################################\u001b[0m| 326/326 [00:00<00:00, 8.42kFiles/s]\u001b[0m\n"
     ]
    },
    {
     "data": {
      "text/html": [
       "<pre style=\"white-space:pre;overflow-x:auto;line-height:normal;font-family:Menlo,'DejaVu Sans Mono',consolas,'Courier New',monospace\">Sorting yielded <span style=\"color: #008080; text-decoration-color: #008080; font-weight: bold\">3</span> unsorted files.\n",
       "</pre>\n"
      ],
      "text/plain": [
       "Sorting yielded \u001b[1;36m3\u001b[0m unsorted files.\n"
      ]
     },
     "metadata": {},
     "output_type": "display_data"
    },
    {
     "data": {
      "text/html": [
       "<pre style=\"white-space:pre;overflow-x:auto;line-height:normal;font-family:Menlo,'DejaVu Sans Mono',consolas,'Courier New',monospace\"><span style=\"font-weight: bold\">[</span>\n",
       "    <span style=\"color: #008000; text-decoration-color: #008000\">'AstronomyResearchData/20230525/2023gfo_besselV_180s_001.fits'</span>,\n",
       "    <span style=\"color: #008000; text-decoration-color: #008000\">'AstronomyResearchData/20230525/2023gfo_besselV_180s_002.fits'</span>,\n",
       "    <span style=\"color: #008000; text-decoration-color: #008000\">'AstronomyResearchData/20230525/2023gfo_besselV_180s_003.fits'</span>\n",
       "<span style=\"font-weight: bold\">]</span>\n",
       "</pre>\n"
      ],
      "text/plain": [
       "\u001b[1m[\u001b[0m\n",
       "    \u001b[32m'AstronomyResearchData/20230525/2023gfo_besselV_180s_001.fits'\u001b[0m,\n",
       "    \u001b[32m'AstronomyResearchData/20230525/2023gfo_besselV_180s_002.fits'\u001b[0m,\n",
       "    \u001b[32m'AstronomyResearchData/20230525/2023gfo_besselV_180s_003.fits'\u001b[0m\n",
       "\u001b[1m]\u001b[0m\n"
      ]
     },
     "metadata": {},
     "output_type": "display_data"
    }
   ],
   "source": [
    "# sort files and display the files that remain\n",
    "bias_files = []\n",
    "dark_files = []\n",
    "sky_files = []\n",
    "light_files = []\n",
    "remainder_files = []\n",
    "\n",
    "for file in tqdm(fits_files, desc=\"Sorting\", **bar_format):\n",
    "    ftype = file[\"fits\"].meta[\"IMTYPE\"]\n",
    "    ffilter = file[\"fits\"].meta[\"FILTER\"]\n",
    "\n",
    "    # remove files with filters I did not use\n",
    "    if ffilter not in [\"Bessel R\", \"Bessel B\", \"Bessel V\"] and ftype not in [\"Bias\", \"Dark\"]: continue\n",
    "\n",
    "    # sort away files by type\n",
    "    if ftype == \"Sky\" or \"Flat\" in file[\"file\"]:\n",
    "        sky_files.append(file)\n",
    "        continue\n",
    "    elif \"Dark\" in os.path.basename(file[\"file\"]):\n",
    "        dark_files.append(file)\n",
    "        continue\n",
    "    elif ftype == \"Bias\":\n",
    "        bias_files.append(file)\n",
    "        continue\n",
    "    elif ftype == \"Light\" and file[\"fits\"].meta[\"OBJECT\"] == \"\":\n",
    "        light_files.append(file)\n",
    "        continue\n",
    "\n",
    "    # explicit catch for a particular broken file\n",
    "    if ftype == \"Dark\" and file[\"fits\"].meta[\"OBJECT\"] == \"Python\":\n",
    "        light_files.append(file)\n",
    "        continue\n",
    "\n",
    "    # put all unsorted files in remainder_files\n",
    "    remainder_files.append(file)\n",
    "\n",
    "# output file sorting\n",
    "print(f\"Sorting yielded {len(remainder_files)} unsorted files.\")\n",
    "print([f[\"file\"] for f in remainder_files])"
   ]
  },
  {
   "cell_type": "code",
   "execution_count": 5,
   "metadata": {},
   "outputs": [],
   "source": [
    "# create master bias (no further sorting needed)\n",
    "# combine fits\n",
    "master_bias = ccdproc.combine([f[\"fits\"] for f in bias_files], method=\"median\")\n",
    "\n",
    "# add master flat\n",
    "master_bias.meta[\"MASTERIM\"] = True\n",
    "master_bias.meta[\"IMTYPE\"] = \"Bias\"\n",
    "master_bias.meta[\"OBJECT\"] = \"\"\n",
    "\n",
    "# save to final dir\n",
    "master_bias.write(Path(fixed_data_dir, \"MasterBias.fits\"), overwrite=True)"
   ]
  },
  {
   "cell_type": "code",
   "execution_count": 6,
   "metadata": {},
   "outputs": [
    {
     "name": "stderr",
     "output_type": "stream",
     "text": [
      "Making 30s Dark: 100%|\u001b[32m##############################\u001b[0m| 14.0/14.0 [00:41<00:00, 2.99s/Files]\u001b[0m\n"
     ]
    }
   ],
   "source": [
    "# create master darks\n",
    "dark_times = set([f[\"fits\"].meta[\"EXPTIME\"] for f in dark_files])\n",
    "master_darks = {}\n",
    "\n",
    "# init live pbar\n",
    "pbar = tqdm(dark_times, desc=\"Making Darks\", **bar_format)\n",
    "\n",
    "# sort through fits by dark times, ineficient but who cares\n",
    "for dark_time in pbar:\n",
    "    # update pbar\n",
    "    pbar.set_description(f\"Making {str(int(dark_time))}s Dark\")\n",
    "\n",
    "    # get only files for this time\n",
    "    timed_dark_files = [f[\"fits\"] for f in dark_files if f[\"fits\"].meta[\"EXPTIME\"] == dark_time and f[\"fits\"].meta[\"IMTYPE\"] != \"Light\"]\n",
    "\n",
    "    # create master dark for this time\n",
    "    master_dark = ccdproc.combine([f for f in timed_dark_files], method=\"median\")\n",
    "\n",
    "    # add master flag\n",
    "    master_dark.meta[\"MASTERIM\"] = True\n",
    "    master_dark.meta[\"IMTYPE\"] = \"Dark\"\n",
    "    master_dark.meta[\"EXPTIME\"] = dark_time\n",
    "    master_dark.meta[\"OBJECT\"] = \"\"\n",
    "\n",
    "    # save master dark for this time\n",
    "    master_dark.write(Path(fixed_data_dir, f\"MasterDark_{str(int(dark_time))}.fits\"), overwrite=True)\n",
    "    master_darks[dark_time] = master_dark\n"
   ]
  },
  {
   "cell_type": "code",
   "execution_count": 7,
   "metadata": {},
   "outputs": [
    {
     "name": "stderr",
     "output_type": "stream",
     "text": [
      "Making Bessel R Flat: 100%|\u001b[32m#########################\u001b[0m| 3.00/3.00 [00:10<00:00, 3.45s/Files]\u001b[0m\n"
     ]
    }
   ],
   "source": [
    "# create master flats\n",
    "filters = set([f[\"fits\"].meta[\"FILTER\"] for f in sky_files])\n",
    "master_sky = {}\n",
    "\n",
    "# init live pbar\n",
    "pbar = tqdm(filters, desc=\"Making Flats\", **bar_format)\n",
    "\n",
    "# sort through skys by filter, ineficient but again who cares\n",
    "for sky_filter in pbar:\n",
    "    # update pbar\n",
    "    pbar.set_description(f\"Making {sky_filter} Flat\")\n",
    "\n",
    "    # get only files for this filter\n",
    "    filtered_sky = [f[\"fits\"] for f in sky_files if f[\"fits\"].meta[\"filter\"] == sky_filter]\n",
    "\n",
    "    # create master flat\n",
    "    master_flat = ccdproc.combine(filtered_sky, method=\"median\")\n",
    "\n",
    "    # add master flag\n",
    "    master_flat.meta[\"MATERIM\"] = True\n",
    "    master_flat.meta[\"IMTYPE\"] = \"Sky\"\n",
    "    master_flat.meta[\"OBJECT\"] = \"\"\n",
    "\n",
    "    # save master flat for this filter\n",
    "    text_filter = str(sky_filter).replace(\" \", \"-\")\n",
    "    master_flat.write(Path(fixed_data_dir, f\"MasterFlat_{text_filter}.fits\"), overwrite=True)\n",
    "    master_sky[sky_filter] = master_flat"
   ]
  },
  {
   "cell_type": "code",
   "execution_count": 8,
   "metadata": {},
   "outputs": [
    {
     "name": "stderr",
     "output_type": "stream",
     "text": [
      "Reducing _W-UMa_Bessel-V_15_010_PY.fits: 100%|\u001b[32m########\u001b[0m| 170/170 [01:19<00:00, 2.15Files/s]\u001b[0m\n"
     ]
    }
   ],
   "source": [
    "# reduce lights\n",
    "# create live pbar\n",
    "new_bar_format = bar_format.copy()\n",
    "new_bar_format[\"ncols\"] = 30\n",
    "pbar = tqdm([(f[\"file\"], f[\"fits\"]) for f in light_files], desc=\"Reducing Lights\", **bar_format)\n",
    "\n",
    "# parse through lights and apply calibrations\n",
    "for fname, lfits in pbar:\n",
    "    # update pbar\n",
    "    pbar.set_description(f\"Reducing {os.path.basename(fname)}\")\n",
    "\n",
    "    # get params from lights\n",
    "    exp_time = lfits.meta[\"EXPTIME\"]\n",
    "    fit_filter = lfits.meta[\"FILTER\"]\n",
    "\n",
    "    # bias subtract\n",
    "    reduced_fit = ccdproc.subtract_bias(lfits, master_bias)\n",
    "\n",
    "    # check for dark subtraction\n",
    "    reduced_fit = ccdproc.subtract_dark(reduced_fit,\n",
    "                                        master_darks[exp_time],\n",
    "                                        dark_exposure=exp_time*units.s,\n",
    "                                        data_exposure=exp_time*units.s)\n",
    "\n",
    "    # flat divide\n",
    "    reduced_fit = ccdproc.flat_correct(reduced_fit, master_sky[fit_filter])\n",
    "\n",
    "    # update header\n",
    "    params = fname.split(\"_\")\n",
    "\n",
    "    # get obj from name and replace fits header\n",
    "    obj = params[1]\n",
    "    reduced_fit.meta[\"OBJECT\"] = obj\n",
    "\n",
    "    # ensure exptime and filter passed through\n",
    "    reduced_fit.meta[\"EXPTIME\"] = exp_time\n",
    "    reduced_fit.meta[\"FILTER\"] = fit_filter\n",
    "    text_filter = fit_filter.replace(\" \", \"-\")\n",
    "\n",
    "    # set an initial value for num, will be updated later\n",
    "    num = 0\n",
    "    fname = f\"{obj}_{exp_time}_{fit_filter}_{num}.fits\"\n",
    "    while Path(fixed_data_dir, fname).is_file():\n",
    "        num += 1\n",
    "        fname = f\"{obj}_{exp_time}_{fit_filter}_{num}.fits\"\n",
    "\n",
    "    # save file\n",
    "    reduced_fit.write(Path(fixed_data_dir, fname), overwrite=True)"
   ]
  },
  {
   "cell_type": "code",
   "execution_count": null,
   "metadata": {},
   "outputs": [],
   "source": []
  }
 ],
 "metadata": {
  "kernelspec": {
   "display_name": "astronomy",
   "language": "python",
   "name": "python3"
  },
  "language_info": {
   "codemirror_mode": {
    "name": "ipython",
    "version": 3
   },
   "file_extension": ".py",
   "mimetype": "text/x-python",
   "name": "python",
   "nbconvert_exporter": "python",
   "pygments_lexer": "ipython3",
   "version": "3.10.11"
  },
  "orig_nbformat": 4
 },
 "nbformat": 4,
 "nbformat_minor": 2
}
