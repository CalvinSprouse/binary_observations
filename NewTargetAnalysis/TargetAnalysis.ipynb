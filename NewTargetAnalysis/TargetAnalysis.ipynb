{
 "cells": [
  {
   "cell_type": "code",
   "execution_count": 46,
   "metadata": {},
   "outputs": [],
   "source": [
    "# imports\n",
    "from pathlib import Path\n",
    "import math\n",
    "\n",
    "import astropy\n",
    "import numpy as np\n",
    "import pandas as pd\n",
    "from astropy.coordinates import SkyCoord\n",
    "from rich import print\n",
    "from tqdm import tqdm"
   ]
  },
  {
   "cell_type": "code",
   "execution_count": 72,
   "metadata": {},
   "outputs": [],
   "source": [
    "# functions\n",
    "\n",
    "# define a function to check that the name given is usable by astropy\n",
    "def check_astropy(name, ra, dec, safety: int = 5):\n",
    "    try:\n",
    "        position = SkyCoord.from_name(name)\n",
    "        return (abs(ra - position.ra.degree) < safety and abs(dec - position.dec.degree) < safety)\n",
    "    except Exception: return False"
   ]
  },
  {
   "cell_type": "code",
   "execution_count": 71,
   "metadata": {},
   "outputs": [],
   "source": [
    "# find and load the .csv\n",
    "csv_file = Path(\"NewTargetsGCVS.csv\")\n",
    "df = pd.read_csv(csv_file)"
   ]
  },
  {
   "cell_type": "code",
   "execution_count": 73,
   "metadata": {},
   "outputs": [],
   "source": [
    "# create astropy column\n",
    "df['is_astropy_name'] = df.apply(lambda row: check_astropy(row[\"name\"], row[\"ra\"], row[\"dec\"]), axis=1)"
   ]
  },
  {
   "cell_type": "code",
   "execution_count": 91,
   "metadata": {},
   "outputs": [],
   "source": [
    "# limiting variables\n",
    "mag_lim = 14\n",
    "period_lim_hours = 2\n",
    "ra_low_lim = 11\n",
    "ra_high_lim = 19\n",
    "mag_range_lim = 0.51\n",
    "\n",
    "# apply astropy selection conditions (astropy can find the object)\n",
    "astropy_df = df[(df[\"is_astropy_name\"] == True)]\n",
    "\n",
    "# apply ra selection conditions (ra within 12 to 18 hours)\n",
    "ra_df = astropy_df[(ra_low_lim < astropy_df[\"ra_hours\"]) & (astropy_df[\"ra_hours\"] < ra_high_lim)]\n",
    "\n",
    "# apply period selection conditions (period > 30 mins)\n",
    "high_period_df = ra_df[(ra_df[\"period_days\"]*24 > period_lim_hours)]\n",
    "\n",
    "# apply magnitude selection conditions (magnitude < mag_lim)\n",
    "temp_df = high_period_df[(high_period_df[\"max_mag\"] < mag_lim)]\n",
    "magnitude_df = temp_df[(temp_df[\"min_mag\"] < mag_lim)]\n",
    "\n",
    "# dataframe for low mag_range stars\n",
    "low_range_df = magnitude_df[(magnitude_df[\"mag_range\"] <= mag_range_lim)]"
   ]
  },
  {
   "cell_type": "code",
   "execution_count": 97,
   "metadata": {},
   "outputs": [],
   "source": [
    "# create several data frames for \"binning\" the mag ranges\n",
    "low_mag_range_df = low_range_df[(low_range_df[\"mag_range\"] <= 0.21)]\n",
    "mid_mag_range_df = low_range_df[(0.21 < low_range_df[\"mag_range\"]) & (low_range_df[\"mag_range\"] <= 0.4)]\n",
    "high_mag_range_df = low_range_df[(0.4 < low_range_df[\"mag_range\"])]"
   ]
  },
  {
   "cell_type": "code",
   "execution_count": 102,
   "metadata": {},
   "outputs": [],
   "source": [
    "low_mag_range_df.to_csv(Path(\"LowMagRangeStars.csv\"))\n",
    "mid_mag_range_df.to_csv(Path(\"MidMagRangeStars.csv\"))\n",
    "high_mag_range_df.to_csv(Path(\"HighMagRangeStars.csv\"))"
   ]
  }
 ],
 "metadata": {
  "kernelspec": {
   "display_name": ".venv",
   "language": "python",
   "name": "python3"
  },
  "language_info": {
   "codemirror_mode": {
    "name": "ipython",
    "version": 3
   },
   "file_extension": ".py",
   "mimetype": "text/x-python",
   "name": "python",
   "nbconvert_exporter": "python",
   "pygments_lexer": "ipython3",
   "version": "3.9.8"
  },
  "orig_nbformat": 4
 },
 "nbformat": 4,
 "nbformat_minor": 2
}
